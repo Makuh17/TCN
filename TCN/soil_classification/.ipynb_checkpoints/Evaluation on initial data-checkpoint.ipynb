{
 "cells": [
  {
   "cell_type": "code",
   "execution_count": 3,
   "id": "d70f1bfc",
   "metadata": {},
   "outputs": [],
   "source": [
    "import numpy as np\n",
    "import matplotlib.pyplot as plt\n",
    "import sys\n",
    "import torch\n",
    "sys.path.append(\"../../\")\n",
    "from TCN.soil_classification.model import SimpleVAE\n",
    "from TCN.soil_classification.utils import data_generator, data_generator_test\n",
    "from TCN.soil_classification.model_VAE import DenseVAE, ConvVAE\n",
    "from TCN.soil_classification.model import TCN\n",
    "from TCN.soil_classification.model_classifier import LatentClassifier\n",
    "from sklearn.metrics import confusion_matrix\n",
    "import time\n",
    "\n",
    "from sklearn import metrics\n",
    "from sklearn.manifold import TSNE"
   ]
  },
  {
   "cell_type": "code",
   "execution_count": 4,
   "id": "45eac03a",
   "metadata": {},
   "outputs": [],
   "source": [
    "# Definitions for data indicies\n",
    "LIN_ACC_X = 1\n",
    "LIN_ACC_Y = 2\n",
    "LIN_ACC_Z = 3\n",
    "ANG_VEL_X = 4\n",
    "ANG_VEL_Y = 5\n",
    "ANG_VEL_Z = 6\n",
    "ORIENT_X = 7\n",
    "ORIENT_Y = 8\n",
    "ORIENT_Z = 9\n",
    "ORIENT_W = 10\n",
    "POS_X = 11\n",
    "POS_Z = 12\n",
    "ANG = 13\n",
    "BOOM = 14\n",
    "DIPPER = 15\n",
    "TELE = 16\n",
    "PITCH = 17\n",
    "labels = [\"lin_acc_x\",\"lin_acc_y\",\"lin_acc_z\",\"ang_vel_x\",\"ang_vel_y\",\"ang_vel_z\", \"ori_x\", \"ori_y\",\n",
    "          \"ori_z\", \"ori_w\", \"pos_x\", \"pos_z\", \"ang\", \"boom\", \"dipper\", \"tele\", \"pitch\"]"
   ]
  },
  {
   "cell_type": "code",
   "execution_count": 31,
   "id": "cc48a469",
   "metadata": {},
   "outputs": [
    {
     "data": {
      "text/plain": [
       "TCN(\n",
       "  (tcn): TemporalConvNet(\n",
       "    (network): Sequential(\n",
       "      (0): TemporalBlock(\n",
       "        (conv1): Conv1d(6, 30, kernel_size=(7,), stride=(1,), padding=(6,))\n",
       "        (chomp1): Chomp1d()\n",
       "        (relu1): ReLU()\n",
       "        (dropout1): Dropout(p=0.2, inplace=False)\n",
       "        (conv2): Conv1d(30, 30, kernel_size=(7,), stride=(1,), padding=(6,))\n",
       "        (chomp2): Chomp1d()\n",
       "        (relu2): ReLU()\n",
       "        (dropout2): Dropout(p=0.2, inplace=False)\n",
       "        (net): Sequential(\n",
       "          (0): Conv1d(6, 30, kernel_size=(7,), stride=(1,), padding=(6,))\n",
       "          (1): Chomp1d()\n",
       "          (2): ReLU()\n",
       "          (3): Dropout(p=0.2, inplace=False)\n",
       "          (4): Conv1d(30, 30, kernel_size=(7,), stride=(1,), padding=(6,))\n",
       "          (5): Chomp1d()\n",
       "          (6): ReLU()\n",
       "          (7): Dropout(p=0.2, inplace=False)\n",
       "        )\n",
       "        (downsample): Conv1d(6, 30, kernel_size=(1,), stride=(1,))\n",
       "        (relu): ReLU()\n",
       "      )\n",
       "      (1): TemporalBlock(\n",
       "        (conv1): Conv1d(30, 30, kernel_size=(7,), stride=(1,), padding=(12,), dilation=(2,))\n",
       "        (chomp1): Chomp1d()\n",
       "        (relu1): ReLU()\n",
       "        (dropout1): Dropout(p=0.2, inplace=False)\n",
       "        (conv2): Conv1d(30, 30, kernel_size=(7,), stride=(1,), padding=(12,), dilation=(2,))\n",
       "        (chomp2): Chomp1d()\n",
       "        (relu2): ReLU()\n",
       "        (dropout2): Dropout(p=0.2, inplace=False)\n",
       "        (net): Sequential(\n",
       "          (0): Conv1d(30, 30, kernel_size=(7,), stride=(1,), padding=(12,), dilation=(2,))\n",
       "          (1): Chomp1d()\n",
       "          (2): ReLU()\n",
       "          (3): Dropout(p=0.2, inplace=False)\n",
       "          (4): Conv1d(30, 30, kernel_size=(7,), stride=(1,), padding=(12,), dilation=(2,))\n",
       "          (5): Chomp1d()\n",
       "          (6): ReLU()\n",
       "          (7): Dropout(p=0.2, inplace=False)\n",
       "        )\n",
       "        (relu): ReLU()\n",
       "      )\n",
       "      (2): TemporalBlock(\n",
       "        (conv1): Conv1d(30, 30, kernel_size=(7,), stride=(1,), padding=(24,), dilation=(4,))\n",
       "        (chomp1): Chomp1d()\n",
       "        (relu1): ReLU()\n",
       "        (dropout1): Dropout(p=0.2, inplace=False)\n",
       "        (conv2): Conv1d(30, 30, kernel_size=(7,), stride=(1,), padding=(24,), dilation=(4,))\n",
       "        (chomp2): Chomp1d()\n",
       "        (relu2): ReLU()\n",
       "        (dropout2): Dropout(p=0.2, inplace=False)\n",
       "        (net): Sequential(\n",
       "          (0): Conv1d(30, 30, kernel_size=(7,), stride=(1,), padding=(24,), dilation=(4,))\n",
       "          (1): Chomp1d()\n",
       "          (2): ReLU()\n",
       "          (3): Dropout(p=0.2, inplace=False)\n",
       "          (4): Conv1d(30, 30, kernel_size=(7,), stride=(1,), padding=(24,), dilation=(4,))\n",
       "          (5): Chomp1d()\n",
       "          (6): ReLU()\n",
       "          (7): Dropout(p=0.2, inplace=False)\n",
       "        )\n",
       "        (relu): ReLU()\n",
       "      )\n",
       "      (3): TemporalBlock(\n",
       "        (conv1): Conv1d(30, 30, kernel_size=(7,), stride=(1,), padding=(48,), dilation=(8,))\n",
       "        (chomp1): Chomp1d()\n",
       "        (relu1): ReLU()\n",
       "        (dropout1): Dropout(p=0.2, inplace=False)\n",
       "        (conv2): Conv1d(30, 30, kernel_size=(7,), stride=(1,), padding=(48,), dilation=(8,))\n",
       "        (chomp2): Chomp1d()\n",
       "        (relu2): ReLU()\n",
       "        (dropout2): Dropout(p=0.2, inplace=False)\n",
       "        (net): Sequential(\n",
       "          (0): Conv1d(30, 30, kernel_size=(7,), stride=(1,), padding=(48,), dilation=(8,))\n",
       "          (1): Chomp1d()\n",
       "          (2): ReLU()\n",
       "          (3): Dropout(p=0.2, inplace=False)\n",
       "          (4): Conv1d(30, 30, kernel_size=(7,), stride=(1,), padding=(48,), dilation=(8,))\n",
       "          (5): Chomp1d()\n",
       "          (6): ReLU()\n",
       "          (7): Dropout(p=0.2, inplace=False)\n",
       "        )\n",
       "        (relu): ReLU()\n",
       "      )\n",
       "      (4): TemporalBlock(\n",
       "        (conv1): Conv1d(30, 30, kernel_size=(7,), stride=(1,), padding=(96,), dilation=(16,))\n",
       "        (chomp1): Chomp1d()\n",
       "        (relu1): ReLU()\n",
       "        (dropout1): Dropout(p=0.2, inplace=False)\n",
       "        (conv2): Conv1d(30, 30, kernel_size=(7,), stride=(1,), padding=(96,), dilation=(16,))\n",
       "        (chomp2): Chomp1d()\n",
       "        (relu2): ReLU()\n",
       "        (dropout2): Dropout(p=0.2, inplace=False)\n",
       "        (net): Sequential(\n",
       "          (0): Conv1d(30, 30, kernel_size=(7,), stride=(1,), padding=(96,), dilation=(16,))\n",
       "          (1): Chomp1d()\n",
       "          (2): ReLU()\n",
       "          (3): Dropout(p=0.2, inplace=False)\n",
       "          (4): Conv1d(30, 30, kernel_size=(7,), stride=(1,), padding=(96,), dilation=(16,))\n",
       "          (5): Chomp1d()\n",
       "          (6): ReLU()\n",
       "          (7): Dropout(p=0.2, inplace=False)\n",
       "        )\n",
       "        (relu): ReLU()\n",
       "      )\n",
       "      (5): TemporalBlock(\n",
       "        (conv1): Conv1d(30, 30, kernel_size=(7,), stride=(1,), padding=(192,), dilation=(32,))\n",
       "        (chomp1): Chomp1d()\n",
       "        (relu1): ReLU()\n",
       "        (dropout1): Dropout(p=0.2, inplace=False)\n",
       "        (conv2): Conv1d(30, 30, kernel_size=(7,), stride=(1,), padding=(192,), dilation=(32,))\n",
       "        (chomp2): Chomp1d()\n",
       "        (relu2): ReLU()\n",
       "        (dropout2): Dropout(p=0.2, inplace=False)\n",
       "        (net): Sequential(\n",
       "          (0): Conv1d(30, 30, kernel_size=(7,), stride=(1,), padding=(192,), dilation=(32,))\n",
       "          (1): Chomp1d()\n",
       "          (2): ReLU()\n",
       "          (3): Dropout(p=0.2, inplace=False)\n",
       "          (4): Conv1d(30, 30, kernel_size=(7,), stride=(1,), padding=(192,), dilation=(32,))\n",
       "          (5): Chomp1d()\n",
       "          (6): ReLU()\n",
       "          (7): Dropout(p=0.2, inplace=False)\n",
       "        )\n",
       "        (relu): ReLU()\n",
       "      )\n",
       "      (6): TemporalBlock(\n",
       "        (conv1): Conv1d(30, 30, kernel_size=(7,), stride=(1,), padding=(384,), dilation=(64,))\n",
       "        (chomp1): Chomp1d()\n",
       "        (relu1): ReLU()\n",
       "        (dropout1): Dropout(p=0.2, inplace=False)\n",
       "        (conv2): Conv1d(30, 30, kernel_size=(7,), stride=(1,), padding=(384,), dilation=(64,))\n",
       "        (chomp2): Chomp1d()\n",
       "        (relu2): ReLU()\n",
       "        (dropout2): Dropout(p=0.2, inplace=False)\n",
       "        (net): Sequential(\n",
       "          (0): Conv1d(30, 30, kernel_size=(7,), stride=(1,), padding=(384,), dilation=(64,))\n",
       "          (1): Chomp1d()\n",
       "          (2): ReLU()\n",
       "          (3): Dropout(p=0.2, inplace=False)\n",
       "          (4): Conv1d(30, 30, kernel_size=(7,), stride=(1,), padding=(384,), dilation=(64,))\n",
       "          (5): Chomp1d()\n",
       "          (6): ReLU()\n",
       "          (7): Dropout(p=0.2, inplace=False)\n",
       "        )\n",
       "        (relu): ReLU()\n",
       "      )\n",
       "      (7): TemporalBlock(\n",
       "        (conv1): Conv1d(30, 30, kernel_size=(7,), stride=(1,), padding=(768,), dilation=(128,))\n",
       "        (chomp1): Chomp1d()\n",
       "        (relu1): ReLU()\n",
       "        (dropout1): Dropout(p=0.2, inplace=False)\n",
       "        (conv2): Conv1d(30, 30, kernel_size=(7,), stride=(1,), padding=(768,), dilation=(128,))\n",
       "        (chomp2): Chomp1d()\n",
       "        (relu2): ReLU()\n",
       "        (dropout2): Dropout(p=0.2, inplace=False)\n",
       "        (net): Sequential(\n",
       "          (0): Conv1d(30, 30, kernel_size=(7,), stride=(1,), padding=(768,), dilation=(128,))\n",
       "          (1): Chomp1d()\n",
       "          (2): ReLU()\n",
       "          (3): Dropout(p=0.2, inplace=False)\n",
       "          (4): Conv1d(30, 30, kernel_size=(7,), stride=(1,), padding=(768,), dilation=(128,))\n",
       "          (5): Chomp1d()\n",
       "          (6): ReLU()\n",
       "          (7): Dropout(p=0.2, inplace=False)\n",
       "        )\n",
       "        (relu): ReLU()\n",
       "      )\n",
       "    )\n",
       "  )\n",
       "  (linear): Linear(in_features=30, out_features=4, bias=True)\n",
       ")"
      ]
     },
     "execution_count": 31,
     "metadata": {},
     "output_type": "execute_result"
    }
   ],
   "source": [
    "test_folder = \"/home/mads/git/TCN/TCN/soil_classification/data/prelim_downsample_phase\"\n",
    "train_folder = \"/home/mads/git/TCN/TCN/soil_classification/data/exp_1604/train\"\n",
    "val_folder = \"/home/mads/git/TCN/TCN/soil_classification/data/exp_1604/test\"\n",
    "\n",
    "\n",
    "#class_model = \"models_latent_class/latent_class6_3232_bs256_do0_seq128_imu_no_orient_phase2_nlf8/latent_class6_3232_bs256_do0_seq128_imu_no_orient_phase2_nlf8_ep78.pt\"\n",
    "#class_model = \"models_latent_class/latent_class11_3232_bs256_do0_seq128_imu_no_orient+torques_phase2_nlf8/latent_class11_3232_bs256_do0_seq128_imu_no_orient+torques_phase2_nlf8_ep78.pt\"\n",
    "#class_model = \"models_latent_class/latent_class_KL0045rel_3232_bs256_do0_seq128_imu_no_orient+torques_phase2_nlf8/latent_class_KL0045rel_3232_bs256_do0_seq128_imu_no_orient+torques_phase2_nlf8_ep80.pt\"\n",
    "class_model = \"models_latent_class/latent_class_grad_3232_bs256_do0_seq128_imu_no_orient_derivative_phase2_nlf8/latent_class_grad_3232_bs256_do0_seq128_imu_no_orient_derivative_phase2_nlf8_ep80.pt\"\n",
    "#class_model = \"models_latent_class/latent_class_norm_3232_bs256_do0_seq128_imu_no_orient_norm_phase2_nlf8/latent_class_norm_3232_bs256_do0_seq128_imu_no_orient_norm_phase2_nlf8_ep80.pt\"\n",
    "\n",
    "ConvVAE_8 = \"AE_model/ConvVAE_bs256_do0_seq128_imu_no_orient+torques_phase2_nlf8/ConvVAE_bs256_do0_seq128_imu_no_orient+torques_phase2_nlf8_ep64.pt\"\n",
    "ConvVAE_8_2 = \"AE_model/ConvVAE_KL0045rel_bs256_do0_seq128_imu_no_orient+torques_phase2_nlf8/ConvVAE_KL0045rel_bs256_do0_seq128_imu_no_orient+torques_phase2_nlf8_ep64.pt\"\n",
    "ConvVAED_8_grad = \"AE_model/ConvVAED_Test14_bs256_do0_seq128_imu_no_orient_derivative_phase2_nlf8/ConvVAED_Test14_bs256_do0_seq128_imu_no_orient_derivative_phase2_nlf8_ep128.pt\"\n",
    "ConvVAED_8_norm = \"AE_model/ConvVAED_Test13_bs256_do0_seq128_imu_no_orient_norm_phase2_nlf8/ConvVAED_Test13_bs256_do0_seq128_imu_no_orient_norm_phase2_nlf8_ep128.pt\"\n",
    "\n",
    "ConvVAED_8 = \"AE_model/ConvVAED_Test6_bs256_do0_seq128_imu_no_orient_phase2_nlf8/ConvVAED_Test6_bs256_do0_seq128_imu_no_orient_phase2_nlf8_ep128.pt\"\n",
    "#ConvVAED_8 = \"AE_model/ConvVAED_Test11_bs256_do0_seq128_imu_no_orient+torques_phase2_nlf8/ConvVAED_Test11_bs256_do0_seq128_imu_no_orient+torques_phase2_nlf8_ep128.pt\"\n",
    "#TCN_model = \"models_3/TCN_bs256_do0_seq128_imu_no_orient+torques_phase2/TCN_bs256_do0_seq128_imu_no_orient+torques_phase2_ep50.pt\"\n",
    "TCN_model = \"models_3/TCN_bs256_do25_seq128_imu_no_orient_phase2/TCN_bs256_do25_seq128_imu_no_orient_phase2_ep40.pt\"\n",
    "TCN_model_acc = \"models_3/TCN_bs256_do25_seq128_only_acceleration_phase2/TCN_bs256_do25_seq128_only_acceleration_phase2_ep40.pt\"\n",
    "TCN_model_grad = \"models_3/TCN_bs256_do25_seq128_imu_no_orient_derivative_phase2/TCN_bs256_do25_seq128_imu_no_orient_derivative_phase2_ep12.pt\"\n",
    "TCN_model_norm = \"models_3/TCN_bs256_do25_seq128_imu_no_orient_norm_phase2/TCN_bs256_do25_seq128_imu_no_orient_norm_phase2_ep40.pt\"\n",
    "TCN_model_aug = \"models_3/TCN_bs256_do25_seq128_imu_no_orient_augment_phase2/TCN_bs256_do25_seq128_imu_no_orient_augment_phase2_ep40.pt\"\n",
    "TCN_model_augfull = \"models_3/TCN_bs256_do25_seq128_imu_no_orient_augmentFull_phase2/TCN_bs256_do25_seq128_imu_no_orient_augmentFull_phase2_ep40.pt\"\n",
    "\n",
    "\n",
    "#variable_set = [list(range(LIN_ACC_X,ANG_VEL_Z+1,1))+list(range(BOOM,PITCH+1,1))]\n",
    "#variable_set = [list(range(LIN_ACC_X,ANG_VEL_Z+1,1))]\n",
    "variable_set = [list(range(LIN_ACC_X,LIN_ACC_Z+1,1))]\n",
    "\n",
    "\n",
    "seq_len = 128\n",
    "#seq_len = 100\n",
    "phase = 2\n",
    "\n",
    "X_train, Y_train = data_generator(train_folder, seq_len, seq_len-1, phase =phase, val_mask=variable_set[0])\n",
    "X_test, Y_test = data_generator(test_folder, seq_len, seq_len-1, phase =phase, val_mask=variable_set[0])\n",
    "\n",
    "#mask = Y_test > 0\n",
    "#X_test, Y_test = X_test[mask], Y_test[mask]\n",
    "\n",
    "\n",
    "norm = False\n",
    "derivative = False\n",
    "seq_standard = False\n",
    "if norm:\n",
    "    X_train[:,:,0] = torch.linalg.norm(X_train[:,:,0:3], dim = 2)\n",
    "    X_train[:,:,1] = torch.linalg.norm(X_train[:,:,3:6], dim = 2)\n",
    "    X_train = X_train[:,:,[0,1]+list(range(6,X_train.shape[2],1))]\n",
    "    \n",
    "    X_test[:,:,0] = torch.linalg.norm(X_test[:,:,0:3], dim = 2)\n",
    "    X_test[:,:,1] = torch.linalg.norm(X_test[:,:,3:6], dim = 2)\n",
    "    X_test = X_test[:,:,[0,1]+list(range(6,X_test.shape[2],1))]\n",
    "\n",
    "if derivative:\n",
    "    X_train = torch.from_numpy(np.gradient(X_train, axis=1))\n",
    "    X_test = torch.from_numpy(np.gradient(X_test, axis=1))\n",
    "    \n",
    "if seq_standard:\n",
    "    m = X_train.mean(axis=1).unsqueeze(1)\n",
    "    s = X_train.std(axis=1).unsqueeze(1)\n",
    "    X_train -= m\n",
    "    X_train /= s\n",
    "    m = X_test.mean(axis=1).unsqueeze(1)\n",
    "    s = X_test.std(axis=1).unsqueeze(1)\n",
    "    X_test -= m\n",
    "    X_test /= s\n",
    "    \n",
    "m = X_train.mean(0, keepdim=True)\n",
    "s = X_train.std(0, unbiased=False, keepdim=True)\n",
    "    \n",
    "X_train -= m\n",
    "X_train /= s\n",
    "X_train = X_train.permute(0,2,1)\n",
    "\n",
    "X_test -= m\n",
    "X_test /= s\n",
    "X_test = X_test.permute(0,2,1)\n",
    "\n",
    "channel_sizes = [30]*8#[30,30,30,30,30,4]#[30]*6 #[30,20,10,1]#\n",
    "kernel_size = 7\n",
    "input_channels = X_train.shape[1]\n",
    "latent_dim = 8\n",
    "\n",
    "n_classes = 4\n",
    "classifier_hidden_dims = [32,32]\n",
    "    \n",
    "#back_model = ConvVAE(input_channels, channel_sizes, kernel_size)\n",
    "#back_model.load_state_dict(torch.load(ConvVAED_8_grad))\n",
    "\n",
    "#model = LatentClassifier(back_model, latent_dim, classifier_hidden_dims, n_classes, VAE=True, dropout=0.35)\n",
    "model = TCN(input_channels, n_classes, channel_sizes, kernel_size=kernel_size , dropout=0.2)\n",
    "\n",
    "model.load_state_dict(torch.load(TCN_model_acc))\n",
    "model.eval()"
   ]
  },
  {
   "cell_type": "code",
   "execution_count": 32,
   "id": "6c6326c6",
   "metadata": {},
   "outputs": [
    {
     "name": "stdout",
     "output_type": "stream",
     "text": [
      "Total time:  11.343075037002563\n",
      "Average time:  0.002851451743841771\n"
     ]
    }
   ],
   "source": [
    "with torch.no_grad():\n",
    "    start = time.time()\n",
    "    out = model(X_test)\n",
    "    end = time.time()\n",
    "print(\"Total time: \", end-start)\n",
    "print(\"Average time: \", (end-start)/out.shape[0])\n"
   ]
  },
  {
   "cell_type": "code",
   "execution_count": 33,
   "id": "184d8d38",
   "metadata": {},
   "outputs": [
    {
     "name": "stdout",
     "output_type": "stream",
     "text": [
      "11628\n"
     ]
    }
   ],
   "source": [
    "print(X_train.shape[0])"
   ]
  },
  {
   "cell_type": "code",
   "execution_count": 34,
   "id": "8ceb99fe",
   "metadata": {},
   "outputs": [],
   "source": [
    "pred = np.argmax(out.numpy(),axis=1)\n",
    "report = metrics.classification_report(Y_test, pred, output_dict = True)\n",
    "cm = confusion_matrix(Y_test, pred)"
   ]
  },
  {
   "cell_type": "code",
   "execution_count": 35,
   "id": "d3612d7b",
   "metadata": {},
   "outputs": [
    {
     "name": "stdout",
     "output_type": "stream",
     "text": [
      "0.06334841628959276\n"
     ]
    }
   ],
   "source": [
    "print(report[\"accuracy\"])"
   ]
  },
  {
   "cell_type": "code",
   "execution_count": 36,
   "id": "f1894ea4",
   "metadata": {},
   "outputs": [
    {
     "name": "stdout",
     "output_type": "stream",
     "text": [
      "[[   0    0    0    0]\n",
      " [ 522  240    0 1113]\n",
      " [1264   77   12  750]\n",
      " [   0    0    0    0]]\n"
     ]
    }
   ],
   "source": [
    "print(cm)"
   ]
  },
  {
   "cell_type": "code",
   "execution_count": 37,
   "id": "869b3529",
   "metadata": {},
   "outputs": [
    {
     "name": "stdout",
     "output_type": "stream",
     "text": [
      "0\n"
     ]
    }
   ],
   "source": [
    "min_class =min(pred)\n",
    "print(min_class)"
   ]
  },
  {
   "cell_type": "code",
   "execution_count": 38,
   "id": "3ec17d92",
   "metadata": {},
   "outputs": [
    {
     "data": {
      "image/png": "[encoded data removed]",
      "text/plain": [
       "<Figure size 432x288 with 2 Axes>"
      ]
     },
     "metadata": {
      "needs_background": "light"
     },
     "output_type": "display_data"
    }
   ],
   "source": [
    "import matplotlib.pyplot as plt\n",
    "from sklearn.metrics import ConfusionMatrixDisplay\n",
    "\n",
    "ls = list(range(min_class, 4)) # your y labels\n",
    "disp = ConfusionMatrixDisplay(confusion_matrix=cm, display_labels=ls)\n",
    "disp.plot()\n",
    "plt.show()"
   ]
  },
  {
   "cell_type": "code",
   "execution_count": null,
   "id": "414a05f8",
   "metadata": {},
   "outputs": [],
   "source": []
  },
  {
   "cell_type": "code",
   "execution_count": 6,
   "id": "91c59c19",
   "metadata": {},
   "outputs": [
    {
     "name": "stdout",
     "output_type": "stream",
     "text": [
      "torch.Size([2584, 6, 128])\n"
     ]
    }
   ],
   "source": [
    "print(X_test.shape)"
   ]
  },
  {
   "cell_type": "code",
   "execution_count": null,
   "id": "5106e162",
   "metadata": {},
   "outputs": [],
   "source": []
  }
 ],
 "metadata": {
  "kernelspec": {
   "display_name": "Python 3",
   "language": "python",
   "name": "python3"
  },
  "language_info": {
   "codemirror_mode": {
    "name": "ipython",
    "version": 3
   },
   "file_extension": ".py",
   "mimetype": "text/x-python",
   "name": "python",
   "nbconvert_exporter": "python",
   "pygments_lexer": "ipython3",
   "version": "3.8.8"
  }
 },
 "nbformat": 4,
 "nbformat_minor": 5
}
