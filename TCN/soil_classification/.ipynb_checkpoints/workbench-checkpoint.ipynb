{
 "cells": [
  {
   "cell_type": "code",
   "execution_count": 38,
   "id": "555364c4",
   "metadata": {},
   "outputs": [],
   "source": [
    "from datetime import datetime\n",
    "import numpy as np\n",
    "import torch\n",
    "import argparse\n",
    "import torch.optim as optim\n",
    "import torch.nn.functional as F\n",
    "import sys\n",
    "import matplotlib.pyplot as plt\n",
    "sys.path.append(\"../../\")\n",
    "from TCN.soil_classification.model import TCN\n",
    "from TCN.soil_classification.utils import data_generator, data_generator_test\n",
    "from torch.autograd import Variable\n",
    "from sklearn.metrics import confusion_matrix\n",
    "from sklearn import metrics"
   ]
  },
  {
   "cell_type": "markdown",
   "id": "a98ee448",
   "metadata": {},
   "source": [
    "### Value Indexing"
   ]
  },
  {
   "cell_type": "code",
   "execution_count": 39,
   "id": "71513e7d",
   "metadata": {},
   "outputs": [],
   "source": [
    "LIN_ACC_X = 1\n",
    "LIN_ACC_Y = 2\n",
    "LIN_ACC_Z = 3\n",
    "ANG_VEL_X = 4\n",
    "ANG_VEL_Y = 5\n",
    "ANG_VEL_Z = 6\n",
    "ORIENT_X = 7\n",
    "ORIENT_Y = 8\n",
    "ORIENT_Z = 9\n",
    "ORIENT_W = 10\n",
    "POS_X = 11\n",
    "POS_Z = 12\n",
    "ANG = 13\n",
    "BOOM = 14\n",
    "DIPPER = 15\n",
    "TELE = 16\n",
    "PITCH = 17"
   ]
  },
  {
   "cell_type": "code",
   "execution_count": 40,
   "id": "ee365fd8",
   "metadata": {},
   "outputs": [],
   "source": [
    "train_folder = \"/home/mads/git/TCN/TCN/soil_classification/data/exp_1604/train\"\n",
    "test_folder = \"/home/mads/git/TCN/TCN/soil_classification/data/exp_1604/test\"\n",
    "X_train, Y_train = data_generator(train_folder, 100, 99, None)\n",
    "X_test, Y_test, plotting = data_generator_test(test_folder, 100, 99, None)"
   ]
  },
  {
   "cell_type": "code",
   "execution_count": 41,
   "id": "96cc8ab2",
   "metadata": {},
   "outputs": [
    {
     "name": "stdout",
     "output_type": "stream",
     "text": [
      "torch.Size([1504, 17, 100])\n",
      "torch.Size([54124, 17, 100])\n"
     ]
    }
   ],
   "source": [
    "mins, _ = torch.min(torch.min(X_train,1)[0],0)\n",
    "maxs, _ = torch.max(torch.max(X_train,1)[0],0)\n",
    "X_train = (X_train-mins)/(maxs-mins)\n",
    "for traj_idx in range(len(X_test)):\n",
    "    X_test[traj_idx] = (X_test[traj_idx]-mins)/(maxs-mins)\n",
    "    X_test[traj_idx] = X_test[traj_idx].permute(0,2,1)\n",
    "X_train = X_train.permute(0,2,1)\n",
    "print(X_test[0].shape)\n",
    "print(X_train.shape)"
   ]
  },
  {
   "cell_type": "code",
   "execution_count": 52,
   "id": "a1622f2d",
   "metadata": {},
   "outputs": [
    {
     "ename": "NameError",
     "evalue": "name 'y' is not defined",
     "output_type": "error",
     "traceback": [
      "\u001b[0;31m---------------------------------------------------------------------------\u001b[0m",
      "\u001b[0;31mNameError\u001b[0m                                 Traceback (most recent call last)",
      "\u001b[0;32m<ipython-input-52-9a4d39ed80a3>\u001b[0m in \u001b[0;36m<module>\u001b[0;34m\u001b[0m\n\u001b[1;32m      8\u001b[0m \u001b[0max2\u001b[0m\u001b[0;34m.\u001b[0m\u001b[0mplot\u001b[0m\u001b[0;34m(\u001b[0m\u001b[0mplotting\u001b[0m\u001b[0;34m[\u001b[0m\u001b[0;36m3\u001b[0m\u001b[0;34m]\u001b[0m\u001b[0;34m[\u001b[0m\u001b[0;34m:\u001b[0m\u001b[0;34m,\u001b[0m\u001b[0;36m0\u001b[0m\u001b[0;34m]\u001b[0m\u001b[0;34m,\u001b[0m\u001b[0mY_test\u001b[0m\u001b[0;34m[\u001b[0m\u001b[0;36m1\u001b[0m\u001b[0;34m]\u001b[0m\u001b[0;34m)\u001b[0m\u001b[0;34m\u001b[0m\u001b[0;34m\u001b[0m\u001b[0m\n\u001b[1;32m      9\u001b[0m \u001b[0max2\u001b[0m\u001b[0;34m.\u001b[0m\u001b[0mset_ylim\u001b[0m\u001b[0;34m(\u001b[0m\u001b[0;34m[\u001b[0m\u001b[0;34m-\u001b[0m\u001b[0;36m1\u001b[0m\u001b[0;34m,\u001b[0m \u001b[0;36m5\u001b[0m\u001b[0;34m]\u001b[0m\u001b[0;34m)\u001b[0m\u001b[0;34m\u001b[0m\u001b[0;34m\u001b[0m\u001b[0m\n\u001b[0;32m---> 10\u001b[0;31m \u001b[0mplt\u001b[0m\u001b[0;34m.\u001b[0m\u001b[0myticks\u001b[0m\u001b[0;34m(\u001b[0m\u001b[0my\u001b[0m\u001b[0;34m,\u001b[0m\u001b[0mmy_xticks\u001b[0m\u001b[0;34m)\u001b[0m\u001b[0;34m\u001b[0m\u001b[0;34m\u001b[0m\u001b[0m\n\u001b[0m\u001b[1;32m     11\u001b[0m \u001b[0max1\u001b[0m\u001b[0;34m.\u001b[0m\u001b[0mlegend\u001b[0m\u001b[0;34m(\u001b[0m\u001b[0;34m)\u001b[0m\u001b[0;34m\u001b[0m\u001b[0;34m\u001b[0m\u001b[0m\n\u001b[1;32m     12\u001b[0m \u001b[0mplt\u001b[0m\u001b[0;34m.\u001b[0m\u001b[0mshow\u001b[0m\u001b[0;34m(\u001b[0m\u001b[0;34m)\u001b[0m\u001b[0;34m\u001b[0m\u001b[0;34m\u001b[0m\u001b[0m\n",
      "\u001b[0;31mNameError\u001b[0m: name 'y' is not defined"
     ]
    },
    {
     "data": {
      "image/png": "[encoded data removed]",
      "text/plain": [
       "<Figure size 720x360 with 2 Axes>"
      ]
     },
     "metadata": {
      "needs_background": "light"
     },
     "output_type": "display_data"
    }
   ],
   "source": [
    "fig, ax1 = plt.subplots(figsize = [10,5])\n",
    "ax2 = ax1.twinx() \n",
    "colors = [\"r\",\"g\",\"b\"]\n",
    "my_xticks = ['John','Arnold','Mavis','Matt']\n",
    "y = np.array([0,1,2,3])\n",
    "for phase in np.unique(plotting[3][:,-1]):\n",
    "    ax1.plot(plotting[3][plotting[3][:,-1]==phase,0],plotting[3][plotting[3][:,-1]==phase,2],color=colors[int(phase)-1],\n",
    "            linewidth=20, alpha=0.2, label = str(phase))\n",
    "ax2.plot(plotting[3][:,0],Y_test[1])\n",
    "ax2.set_ylim([-1, 5])\n",
    "plt.yticks(y,my_xticks)\n",
    "ax1.legend()\n",
    "plt.show()"
   ]
  },
  {
   "cell_type": "code",
   "execution_count": 3,
   "id": "8bf1c5e2",
   "metadata": {},
   "outputs": [],
   "source": [
    "seed = 1111\n",
    "folder = \"/home/mads/git/TCN/TCN/soil_classification/data/prelim\"\n",
    "no_air = True\n",
    "\n",
    "val_mask = range(LIN_ACC_X,ANG_VEL_Z+1,1)\n",
    "\n",
    "X, Y = data_generator(folder, 100, 50, val_mask=val_mask)\n",
    "\n",
    "shuffle_seq = np.arange(X.shape[0])\n",
    "rng = np.random.default_rng(seed)\n",
    "rng.shuffle(shuffle_seq)\n",
    "X = X[shuffle_seq,:,:]\n",
    "Y = Y[shuffle_seq]\n",
    "\n",
    "X,Y = Variable(torch.from_numpy(X)), Variable(torch.from_numpy(Y))\n",
    "\n",
    "if no_air:\n",
    "    remove_air = Y>0\n",
    "    X, Y = X[remove_air], Y[remove_air]\n",
    "\n",
    "input_channels = len(val_mask)\n",
    "n_classes = 3\n",
    "batch_size = 32\n",
    "seq_length = 500\n",
    "epochs = 10\n",
    "nhid = 30\n",
    "levels = 8\n",
    "ksize = 7\n",
    "\n",
    "channel_sizes = [nhid]*levels\n",
    "kernel_size = ksize\n",
    "dropout = 0.0\n",
    "model = TCN(input_channels, n_classes, channel_sizes, kernel_size=kernel_size, dropout=dropout)\n",
    "\n",
    "lr = 4e-3\n",
    "optimizer = getattr(optim, 'Adam')(model.parameters(), lr=lr)\n",
    "\n",
    "test_pct = 15\n",
    "\n",
    "X_train, X_test = X[int(X.size()[0]/100*test_pct):], X[:int(X.size()[0]/100*test_pct)]\n",
    "Y_train, Y_test = Y[int(X.size()[0]/100*test_pct):], Y[:int(X.size()[0]/100*test_pct)]"
   ]
  },
  {
   "cell_type": "code",
   "execution_count": 4,
   "id": "0c2e4622",
   "metadata": {},
   "outputs": [],
   "source": [
    "mins, _ = torch.min(torch.min(X_train,1)[0],0)\n",
    "maxs, _ = torch.max(torch.max(X_train,1)[0],0)\n",
    "X_train, X_test = (X_train-mins)/(maxs-mins), (X_test-mins)/(maxs-mins)\n",
    "X_train, X_test = X_train.permute(0,2,1), X_test.permute(0,2,1)"
   ]
  },
  {
   "cell_type": "code",
   "execution_count": 5,
   "id": "a139dcfe",
   "metadata": {},
   "outputs": [
    {
     "data": {
      "text/plain": [
       "torch.Size([806, 6, 100])"
      ]
     },
     "execution_count": 5,
     "metadata": {},
     "output_type": "execute_result"
    }
   ],
   "source": [
    "X_train.size()"
   ]
  },
  {
   "cell_type": "code",
   "execution_count": 6,
   "id": "7724a56e",
   "metadata": {},
   "outputs": [],
   "source": [
    "def train(epoch):\n",
    "    global lr\n",
    "    model.train()\n",
    "    batch_idx = 1\n",
    "    total_loss = 0\n",
    "    full_loss = 0\n",
    "    idx = np.arange(X_train.size(0))\n",
    "    for i in range(0, X_train.size(0), batch_size):\n",
    "        rng.shuffle(idx)\n",
    "        if i + batch_size > X_train.size(0):\n",
    "            x, y = X_train[idx[i:]], Y_train[idx[i:]]\n",
    "        else:\n",
    "            x, y = X_train[idx[i:(i+batch_size)]], Y_train[idx[i:(i+batch_size)]]\n",
    "        optimizer.zero_grad()\n",
    "        output = model(x)\n",
    "        loss = F.nll_loss(output, y)\n",
    "        loss.backward()\n",
    "        if clip > 0:\n",
    "            torch.nn.utils.clip_grad_norm_(model.parameters(), args.clip)\n",
    "        optimizer.step()\n",
    "        batch_idx += 1\n",
    "        total_loss += loss.item()\n",
    "        full_loss += loss.item()\n",
    "\n",
    "        if batch_idx % log_interval == 0:\n",
    "            cur_loss = total_loss / log_interval\n",
    "            processed = min(i+batch_size, X_train.size(0))\n",
    "            print('Train Epoch: {:2d} [{:6d}/{:6d} ({:.0f}%)]\\tLearning rate: {:.4f}\\tLoss: {:.6f}'.format(\n",
    "                epoch, processed, X_train.size(0), 100.*processed/X_train.size(0), lr, cur_loss))\n",
    "            total_loss = 0\n",
    "    full_loss = full_loss/batch_idx\n",
    "    return full_loss\n",
    "            \n",
    "def evaluate():\n",
    "    model.eval()\n",
    "    with torch.no_grad():\n",
    "        output = model(X_test)\n",
    "        test_loss = F.nll_loss(output, Y_test)\n",
    "        print('\\nTest set: Average loss: {:.6f}\\n'.format(test_loss.item()))\n",
    "        return test_loss.item()"
   ]
  },
  {
   "cell_type": "code",
   "execution_count": 7,
   "id": "a38a9e1e",
   "metadata": {},
   "outputs": [
    {
     "name": "stdout",
     "output_type": "stream",
     "text": [
      "Train Epoch:  1 [   768/   806 (95%)]\tLearning rate: 0.0040\tLoss: 0.696322\n",
      "\n",
      "Test set: Average loss: 0.655909\n",
      "\n",
      "Train Epoch:  2 [   768/   806 (95%)]\tLearning rate: 0.0040\tLoss: 0.460840\n",
      "\n",
      "Test set: Average loss: 0.356722\n",
      "\n",
      "Train Epoch:  3 [   768/   806 (95%)]\tLearning rate: 0.0040\tLoss: 0.203853\n",
      "\n",
      "Test set: Average loss: 0.163541\n",
      "\n",
      "Train Epoch:  4 [   768/   806 (95%)]\tLearning rate: 0.0040\tLoss: 0.054207\n",
      "\n",
      "Test set: Average loss: 0.105159\n",
      "\n",
      "Train Epoch:  5 [   768/   806 (95%)]\tLearning rate: 0.0040\tLoss: 0.050365\n",
      "\n",
      "Test set: Average loss: 0.045028\n",
      "\n",
      "Train Epoch:  6 [   768/   806 (95%)]\tLearning rate: 0.0040\tLoss: 0.025937\n",
      "\n",
      "Test set: Average loss: 0.056419\n",
      "\n",
      "Train Epoch:  7 [   768/   806 (95%)]\tLearning rate: 0.0040\tLoss: 0.087632\n",
      "\n",
      "Test set: Average loss: 0.058140\n",
      "\n",
      "Train Epoch:  8 [   768/   806 (95%)]\tLearning rate: 0.0040\tLoss: 0.026338\n",
      "\n",
      "Test set: Average loss: 0.057410\n",
      "\n",
      "Train Epoch:  9 [   768/   806 (95%)]\tLearning rate: 0.0040\tLoss: 0.099749\n",
      "\n",
      "Test set: Average loss: 0.046719\n",
      "\n",
      "Train Epoch: 10 [   768/   806 (95%)]\tLearning rate: 0.0040\tLoss: 0.034071\n",
      "\n",
      "Test set: Average loss: 0.057504\n",
      "\n"
     ]
    }
   ],
   "source": [
    "clip  = -1\n",
    "log_interval = 25\n",
    "train_loss = []\n",
    "test_loss = []\n",
    "for ep in range(1, epochs+1):\n",
    "    train_loss.append(train(ep))\n",
    "    test_loss.append(evaluate())\n",
    "FORMAT = '%Y-%m-%-d_%H%M%S'\n",
    "stamp = datetime.now().strftime(FORMAT)\n",
    "with open('log/train_test_'+stamp+'.csv', 'w') as f:\n",
    "    f.write(f\"epoch, train_loss, test_loss\\n\")\n",
    "    for ep,(train, test) in enumerate(zip(train_loss, test_loss)):\n",
    "        f.write(f\"{ep},{train}, {test}\\n\")"
   ]
  },
  {
   "cell_type": "code",
   "execution_count": null,
   "id": "92d7cc78",
   "metadata": {},
   "outputs": [],
   "source": [
    "N=100\n",
    "X_num = torch.rand([N, 1, seq_length])\n",
    "X_mask = torch.zeros([N, 1, seq_length])\n",
    "Y = torch.zeros([N, 1])\n",
    "for i in range(N):\n",
    "    positions = np.random.choice(seq_length, size=2, replace=False)\n",
    "    X_mask[i, 0, positions[0]] = 1\n",
    "    X_mask[i, 0, positions[1]] = 1\n",
    "    Y[i,0] = X_num[i, 0, positions[0]] + X_num[i, 0, positions[1]]\n",
    "X = torch.cat((X_num, X_mask), dim=1)\n",
    "add_X, add_Y = Variable(X), Variable(Y)"
   ]
  },
  {
   "cell_type": "code",
   "execution_count": null,
   "id": "a6a3fc50",
   "metadata": {},
   "outputs": [],
   "source": [
    "add_X.type()"
   ]
  },
  {
   "cell_type": "code",
   "execution_count": null,
   "id": "ab26d839",
   "metadata": {},
   "outputs": [],
   "source": [
    "model.eval()\n",
    "with torch.no_grad():\n",
    "    output = model(X_train)"
   ]
  },
  {
   "cell_type": "code",
   "execution_count": null,
   "id": "58f05d2d",
   "metadata": {},
   "outputs": [],
   "source": [
    "pred = np.argmax(output.numpy(),axis=1)"
   ]
  },
  {
   "cell_type": "code",
   "execution_count": null,
   "id": "cf794bda",
   "metadata": {},
   "outputs": [],
   "source": [
    "from sklearn.metrics import confusion_matrix\n",
    "confusion_matrix(Y_train, pred)"
   ]
  },
  {
   "cell_type": "code",
   "execution_count": 8,
   "id": "4a7fb05d",
   "metadata": {},
   "outputs": [
    {
     "data": {
      "text/plain": [
       "array([[368,   4],\n",
       "       [  0, 434]])"
      ]
     },
     "execution_count": 8,
     "metadata": {},
     "output_type": "execute_result"
    }
   ],
   "source": [
    "model.eval()\n",
    "with torch.no_grad():\n",
    "    output = model(X_train)\n",
    "pred = np.argmax(output.numpy(),axis=1)\n",
    "confusion_matrix(Y_train, pred)"
   ]
  },
  {
   "cell_type": "code",
   "execution_count": 9,
   "id": "72a42731",
   "metadata": {},
   "outputs": [
    {
     "data": {
      "text/plain": [
       "array([[64,  3],\n",
       "       [ 0, 75]])"
      ]
     },
     "execution_count": 9,
     "metadata": {},
     "output_type": "execute_result"
    }
   ],
   "source": [
    "model.eval()\n",
    "with torch.no_grad():\n",
    "    output = model(X_test)\n",
    "pred = np.argmax(output.numpy(),axis=1)\n",
    "confusion_matrix(Y_test, pred)"
   ]
  },
  {
   "cell_type": "code",
   "execution_count": 43,
   "id": "5662177a",
   "metadata": {},
   "outputs": [
    {
     "name": "stdout",
     "output_type": "stream",
     "text": [
      "{'1': {'precision': 1.0, 'recall': 0.9552238805970149, 'f1-score': 0.9770992366412213, 'support': 67}, '2': {'precision': 0.9615384615384616, 'recall': 1.0, 'f1-score': 0.9803921568627451, 'support': 75}, 'accuracy': 0.9788732394366197, 'macro avg': {'precision': 0.9807692307692308, 'recall': 0.9776119402985075, 'f1-score': 0.9787456967519832, 'support': 142}, 'weighted avg': {'precision': 0.9796858071505958, 'recall': 0.9788732394366197, 'f1-score': 0.9788384550680824, 'support': 142}}\n"
     ]
    }
   ],
   "source": [
    "report = metrics.classification_report(Y_test, pred, output_dict = True)\n",
    "print(report)"
   ]
  },
  {
   "cell_type": "code",
   "execution_count": 10,
   "id": "3748bc8f",
   "metadata": {},
   "outputs": [
    {
     "data": {
      "text/plain": [
       "tensor([[[0.6322, 0.6322, 0.6322,  ..., 0.6364, 0.6364, 0.6405],\n",
       "         [0.3216, 0.3216, 0.3222,  ..., 0.3271, 0.3271, 0.3271],\n",
       "         [0.9244, 0.9239, 0.9239,  ..., 0.9371, 0.9367, 0.9367],\n",
       "         [0.3011, 0.3011, 0.3008,  ..., 0.3253, 0.3253, 0.3251],\n",
       "         [0.4425, 0.4425, 0.4454,  ..., 0.4483, 0.4483, 0.4536],\n",
       "         [0.5868, 0.5868, 0.5900,  ..., 0.5835, 0.5835, 0.5892]],\n",
       "\n",
       "        [[0.6983, 0.6901, 0.6860,  ..., 0.7893, 0.7851, 0.7893],\n",
       "         [0.4040, 0.4047, 0.4047,  ..., 0.3645, 0.3631, 0.3631],\n",
       "         [0.5614, 0.5619, 0.5629,  ..., 0.5836, 0.5841, 0.5841],\n",
       "         [0.5990, 0.5992, 0.5996,  ..., 0.5754, 0.5754, 0.5745],\n",
       "         [0.4991, 0.4980, 0.4974,  ..., 0.5108, 0.5108, 0.5096],\n",
       "         [0.6247, 0.6239, 0.6239,  ..., 0.6941, 0.6941, 0.6933]],\n",
       "\n",
       "        [[0.4380, 0.4380, 0.4339,  ..., 0.4669, 0.4587, 0.4545],\n",
       "         [0.7477, 0.7457, 0.7464,  ..., 0.7346, 0.7387, 0.7422],\n",
       "         [0.4022, 0.4060, 0.4083,  ..., 0.3634, 0.3634, 0.3625],\n",
       "         [0.2144, 0.2163, 0.2175,  ..., 0.1735, 0.1735, 0.1760],\n",
       "         [0.4845, 0.4968, 0.5038,  ..., 0.4110, 0.4110, 0.4180],\n",
       "         [0.5529, 0.5464, 0.5408,  ..., 0.6118, 0.6118, 0.6150]],\n",
       "\n",
       "        ...,\n",
       "\n",
       "        [[0.7107, 0.7107, 0.7107,  ..., 0.6694, 0.6694, 0.6653],\n",
       "         [0.5703, 0.5696, 0.5703,  ..., 0.5419, 0.5419, 0.5426],\n",
       "         [0.4386, 0.4390, 0.4395,  ..., 0.4674, 0.4674, 0.4669],\n",
       "         [0.4939, 0.4941, 0.4941,  ..., 0.5414, 0.5401, 0.5387],\n",
       "         [0.4606, 0.4606, 0.4577,  ..., 0.4156, 0.4145, 0.4162],\n",
       "         [0.5278, 0.5278, 0.5287,  ..., 0.5940, 0.5956, 0.5964]],\n",
       "\n",
       "        [[0.4876, 0.4876, 0.4876,  ..., 0.4959, 0.4959, 0.4959],\n",
       "         [0.3098, 0.3091, 0.3098,  ..., 0.3056, 0.3056, 0.3049],\n",
       "         [0.8809, 0.8800, 0.8795,  ..., 0.8837, 0.8833, 0.8828],\n",
       "         [0.2845, 0.2845, 0.2853,  ..., 0.2710, 0.2702, 0.2704],\n",
       "         [0.4472, 0.4472, 0.4466,  ..., 0.4437, 0.4460, 0.4466],\n",
       "         [0.5811, 0.5811, 0.5795,  ..., 0.5860, 0.5876, 0.5868]],\n",
       "\n",
       "        [[0.6653, 0.6653, 0.6653,  ..., 0.6281, 0.6281, 0.6322],\n",
       "         [0.5059, 0.5073, 0.5080,  ..., 0.4733, 0.4733, 0.4719],\n",
       "         [0.4726, 0.4721, 0.4731,  ..., 0.5090, 0.5095, 0.5090],\n",
       "         [0.5310, 0.5318, 0.5318,  ..., 0.5658, 0.5658, 0.5642],\n",
       "         [0.4682, 0.4693, 0.4693,  ..., 0.4670, 0.4670, 0.4676],\n",
       "         [0.5884, 0.5884, 0.5884,  ..., 0.6215, 0.6215, 0.6223]]])"
      ]
     },
     "execution_count": 10,
     "metadata": {},
     "output_type": "execute_result"
    }
   ],
   "source": [
    "X_test"
   ]
  },
  {
   "cell_type": "code",
   "execution_count": 33,
   "id": "b6771239",
   "metadata": {},
   "outputs": [
    {
     "data": {
      "text/plain": [
       "tensor([1, 1, 2, 1, 2, 1, 2, 2, 2, 0, 1, 2, 2, 2, 0, 2, 2, 2, 2, 2, 2, 2, 2, 2,\n",
       "        2, 2, 1, 2, 2, 2, 1, 1, 2, 2, 1, 2, 2, 1, 1, 1, 2, 2, 2, 1, 1, 2, 1, 1,\n",
       "        2, 1, 1, 2, 2, 2, 1, 2, 1, 1, 1, 1, 2, 0, 1, 0, 2, 2, 0, 2, 1, 2, 2, 1,\n",
       "        2, 2, 1, 1, 1, 1, 1, 1, 1, 2, 1, 1, 2, 2, 1, 1, 0, 2, 2, 0, 1, 2, 2, 2,\n",
       "        2, 1, 2, 2, 1, 2, 0, 1, 1, 1, 1, 0, 2, 1, 2, 1, 1, 1, 2, 2, 1, 0, 0, 1,\n",
       "        1, 2, 1, 2, 2, 1, 2, 2, 2, 1, 0, 1, 1, 1, 2, 2, 2, 2, 1, 2, 2, 1, 2, 1,\n",
       "        1, 2, 2, 2, 2, 2, 1, 0, 2, 2, 2, 2, 1, 1, 2, 1, 1, 2, 2, 2, 2, 1, 1, 1,\n",
       "        2, 2, 2, 2, 2, 1, 1, 2, 1, 1, 2, 0, 2, 1, 0, 2, 2, 2, 2, 2, 2, 1, 2, 2,\n",
       "        2, 2, 1, 1, 0, 2, 2, 1, 2, 2, 0, 1, 2, 1, 1, 2, 2, 2, 2, 2, 2, 1, 2, 2,\n",
       "        1, 0, 2, 2, 2, 2, 2, 1, 1, 1, 2, 1, 2, 2, 2, 1, 2, 1, 2, 2, 2, 0, 1, 2,\n",
       "        2, 1, 1, 2, 1, 1, 2, 1, 2, 1, 2, 2, 2, 2, 1, 1, 1, 2, 0, 2, 1, 0, 2, 2,\n",
       "        2, 1, 1, 1, 2, 0, 1, 1, 2, 1, 2, 1, 1, 2, 1, 1, 1, 1, 1, 1, 2, 2, 1, 1,\n",
       "        2, 2, 2, 0, 1, 1, 2, 2, 2, 2, 1, 2, 2, 1, 2, 1, 2, 1, 1, 0, 2, 1, 2, 1,\n",
       "        1, 1, 1, 1, 0, 2, 2, 2, 1, 2, 2, 2, 2, 2, 2, 2, 1, 2, 1, 0, 2, 1, 1, 2,\n",
       "        1, 1, 2, 1, 0, 1, 1, 0, 1, 2, 1, 2, 2, 0, 1, 1, 2, 0, 2, 2, 0, 0, 2, 0,\n",
       "        1, 2, 0, 1, 1, 2, 1, 2, 1, 1, 1, 1, 1, 2, 2, 1, 1, 1, 1, 2, 0, 1, 1, 1,\n",
       "        1, 0, 2, 2, 1, 1, 2, 1, 2, 2, 1, 2, 1, 2, 2, 2, 0, 1, 0, 0, 1, 1, 1, 1,\n",
       "        1, 2, 2, 2, 2, 0, 2, 2, 2, 2, 1, 1, 2, 2, 2, 1, 1, 1, 2, 1, 1, 1, 2, 1,\n",
       "        1, 2, 2, 2, 2, 2, 2, 1, 1, 2, 1, 2, 0, 1, 1, 1, 1, 2, 2, 1, 1, 2, 2, 1,\n",
       "        2, 1, 0, 2, 2, 2, 2, 2, 2, 1, 2, 2, 2, 0, 2, 1, 1, 2, 1, 2, 2, 2, 2, 1,\n",
       "        2, 1, 1, 2, 1, 2, 2, 0, 2, 2, 2, 1, 1, 2, 1, 1, 2, 2, 1, 2, 2, 1, 0, 2,\n",
       "        2, 0, 1, 2, 1, 0, 2, 0, 0, 0, 2, 2, 2, 2, 2, 2, 1, 0, 0, 2, 2, 1, 0, 2,\n",
       "        2, 1, 2, 2, 2, 1, 0, 0, 1, 2, 1, 2, 1, 2, 1, 2, 2, 2, 1, 2, 1, 1, 1, 2,\n",
       "        2, 2, 2, 1, 1, 2, 0, 1, 1, 1, 1, 2, 0, 1, 2, 1, 1, 2, 1, 1, 1, 1, 1, 2,\n",
       "        1, 2, 2, 0, 1, 2, 2, 1, 2, 2, 1, 1, 2, 1, 2, 1, 0, 2, 2, 1, 1, 2, 2, 1,\n",
       "        2, 2, 2, 1, 1, 1, 2, 2, 2, 2, 2, 1, 1, 2, 0, 1, 1, 1, 0, 2, 0, 2, 1, 2,\n",
       "        2, 2, 2, 2, 2, 1, 2, 1, 1, 1, 2, 1, 1, 1, 2, 1, 2, 1, 2, 1, 1, 1, 2, 2,\n",
       "        1, 2, 1, 0, 2, 0, 1, 2, 2, 1, 2, 1, 2, 2, 1, 1, 1, 0, 1, 1, 1, 1, 2, 2,\n",
       "        2, 1, 1, 1, 0, 1, 0, 1, 0, 0, 0, 2, 2, 1, 2, 1, 1, 2, 2, 2, 2, 2, 1, 1,\n",
       "        1, 1, 1, 2, 0, 2, 2, 1, 2, 1, 2, 1, 2, 1, 1, 0, 0, 1, 1, 2, 1, 1, 2, 0,\n",
       "        1, 2, 2, 2, 2, 0, 1, 1, 0, 1, 2, 2, 2, 2, 1, 1, 1, 2, 2, 2, 1, 0, 1, 1,\n",
       "        0, 2, 1, 2, 2, 1, 2, 1, 1, 2, 2, 1, 2, 1, 2, 1, 2, 2, 2, 1, 2, 0, 2, 1,\n",
       "        0, 0, 2, 2, 2, 1, 1, 2, 2, 2, 2, 0, 1, 2, 2, 1, 2, 2, 1, 0, 2, 1, 1, 1,\n",
       "        2, 0, 1, 1, 1, 2, 0, 2, 1, 1, 2, 1, 2, 2, 2, 1, 1, 2, 2, 0, 0, 2, 1, 0,\n",
       "        2, 2, 2, 1, 2, 2, 1, 1, 2, 2, 1, 1, 2, 2, 1, 0, 2, 0, 1, 1, 2, 2, 1, 0,\n",
       "        1, 2, 1, 2, 2, 1, 1, 1, 1, 2, 0, 1, 1, 2, 0, 1, 1, 2, 1, 1, 2, 1, 2, 1,\n",
       "        2, 1, 1, 2, 2, 1, 2, 1, 2, 2, 2, 2, 0, 1, 1, 2, 2, 2, 1, 1, 1, 2, 2, 1,\n",
       "        2, 1, 1, 0, 1, 2, 1, 1, 2, 1, 2, 1, 2])"
      ]
     },
     "execution_count": 33,
     "metadata": {},
     "output_type": "execute_result"
    }
   ],
   "source": [
    "Y_train"
   ]
  },
  {
   "cell_type": "code",
   "execution_count": 1,
   "id": "3f980fa7",
   "metadata": {},
   "outputs": [
    {
     "ename": "ModuleNotFoundError",
     "evalue": "No module named 'TCN'",
     "output_type": "error",
     "traceback": [
      "\u001b[0;31m---------------------------------------------------------------------------\u001b[0m",
      "\u001b[0;31mModuleNotFoundError\u001b[0m                       Traceback (most recent call last)",
      "\u001b[0;32m<ipython-input-1-a5787c2f740f>\u001b[0m in \u001b[0;36m<module>\u001b[0;34m\u001b[0m\n\u001b[0;32m----> 1\u001b[0;31m \u001b[0;32mfrom\u001b[0m \u001b[0mTCN\u001b[0m\u001b[0;34m.\u001b[0m\u001b[0msoil_classification\u001b[0m\u001b[0;34m.\u001b[0m\u001b[0mutils\u001b[0m \u001b[0;32mimport\u001b[0m \u001b[0mdata_generator\u001b[0m\u001b[0;34m\u001b[0m\u001b[0;34m\u001b[0m\u001b[0m\n\u001b[0m",
      "\u001b[0;31mModuleNotFoundError\u001b[0m: No module named 'TCN'"
     ]
    }
   ],
   "source": [
    "from TCN.soil_classification.utils import data_generator"
   ]
  },
  {
   "cell_type": "code",
   "execution_count": null,
   "id": "0b9ef2b8",
   "metadata": {},
   "outputs": [],
   "source": []
  }
 ],
 "metadata": {
  "kernelspec": {
   "display_name": "Python 3",
   "language": "python",
   "name": "python3"
  },
  "language_info": {
   "codemirror_mode": {
    "name": "ipython",
    "version": 3
   },
   "file_extension": ".py",
   "mimetype": "text/x-python",
   "name": "python",
   "nbconvert_exporter": "python",
   "pygments_lexer": "ipython3",
   "version": "3.8.8"
  }
 },
 "nbformat": 4,
 "nbformat_minor": 5
}
